{
 "cells": [
  {
   "cell_type": "markdown",
   "id": "ac553b50",
   "metadata": {},
   "source": [
    "# Export risk and ambiguity data\n",
    "\n",
    "This script outputs risk and ambiguity data from MAT files created by the aging scripts.\n",
    "Source files may be found at: `Z:\Lab_Projects\R_A_ID\behavioral`.\n",
    "\n",
    "## load libraries"
   ]
  },
  {
   "cell_type": "code",
   "execution_count": 1,
   "id": "a25d8c23",
   "metadata": {},
   "outputs": [],
   "source": [
    "import pandas as pd\n",
    "import numpy as np\n",
    "import scipy.io as sio\n",
    "from glob import glob"
   ]
  },
  {
   "cell_type": "markdown",
   "id": "f398b286",
   "metadata": {},
   "source": [
    "Create a template for the Monetary task"
   ]
  },
  {
   "cell_type": "code",
   "execution_count": 2,
   "id": "897502c7",
   "metadata": {},
   "outputs": [],
   "source": [
    "\n",
    "glober = 'W:\\\\Lab_Projects\\\\R_A_ID\\\\behavioral\\\\RAID_10_to_33_data\\\\RA_GAINS_*.mat'\n",
    "df = pd.DataFrame()\n",
    "df_missing = pd.DataFrame()"
   ]
  },
  {
   "cell_type": "markdown",
   "id": "09a7b84b",
   "metadata": {},
   "source": [
    "The actual data extraction"
   ]
  },
  {
   "cell_type": "code",
   "execution_count": 13,
   "id": "4f30e9f6",
   "metadata": {
    "scrolled": true
   },
   "outputs": [
    {
     "name": "stdout",
     "output_type": "stream",
     "text": [
      "10 10.0\n",
      "11 10\n",
      "12 10\n",
      "14 10.0\n",
      "15 10\n",
      "16 10.0\n",
      "17 10\n",
      "18 10\n",
      "19 10\n",
      "20 10\n",
      "21 10.0\n",
      "22 10\n",
      "23 10\n",
      "24 10\n",
      "25 10\n",
      "26\n",
      "27 9.0\n",
      "28 10\n",
      "29 10\n",
      "30 10\n",
      "31 10.0\n",
      "32 10\n",
      "33 10.0\n"
     ]
    }
   ],
   "source": [
    "for mat_fname in glob(glober):\n",
    "    mat = sio.loadmat(mat_fname) # open the file\n",
    "    sub = mat['Data']['observer'][0][0][0][0] # subject number\n",
    "    try:\n",
    "        vals, risk, ambiguity = [], [], []\n",
    "        for i in range(124):\n",
    "            vals.append(mat['Data']['vals'][0][0][i][0])\n",
    "            risk.append(mat['Data']['probs'][0][0][i][0])\n",
    "            ambiguity.append(mat['Data']['ambigs'][0][0][i][0])\n",
    "\n",
    "        # the selection data in the Datamon is divided into the 4 blocks.\n",
    "        # in each block there are 21 trials.\n",
    "\n",
    "        choice = []\n",
    "        for i in range(4):\n",
    "            for j in range(31):\n",
    "                choice.append(mat['Data']['Summary'][0][0][i][j][0][0])\n",
    "\n",
    "        # create a db with the choices\n",
    "        db = pd.DataFrame({'choice':choice})\n",
    "\n",
    "        # fill the db with values\n",
    "        db['value'] = vals\n",
    "        db['risk'] = risk\n",
    "        db['ambiguity'] = ambiguity\n",
    "        db['sub'] = sub\n",
    "\n",
    "        # replace values from the name to numbers\n",
    "        db['choice'] = db.choice.replace(['Reference'], 0)\n",
    "        db['choice'] = db.choice.replace(['Lottery'], 1)\n",
    "        db['choice'] = db.choice.replace(['None'], np.nan)\n",
    "\n",
    "        # look for catch trials if more than 5 (half) print sub number.\n",
    "        catch = np.nansum(db.choice[db.value < 6])\n",
    "        if catch > 5:\n",
    "            print(sub, catch)\n",
    "        else:\n",
    "            db['catch'] = catch\n",
    "        #if db['choice'][db['choice'] != db['choice']].shape[0]:\n",
    "        #    df_missing = df_missing.append(db)\n",
    "        #else:\n",
    "            # append the subject to the subjects dataframe\n",
    "            df = df.append(db)\n",
    "    except:\n",
    "        print(sub)"
   ]
  },
  {
   "cell_type": "code",
   "execution_count": 14,
   "id": "58a25c6d",
   "metadata": {},
   "outputs": [
    {
     "ename": "PermissionError",
     "evalue": "[Errno 13] Permission denied: 'Gains.csv'",
     "output_type": "error",
     "traceback": [
      "\u001b[1;31m---------------------------------------------------------------------------\u001b[0m",
      "\u001b[1;31mPermissionError\u001b[0m                           Traceback (most recent call last)",
      "\u001b[1;32m<ipython-input-14-8ff2de00add8>\u001b[0m in \u001b[0;36m<module>\u001b[1;34m\u001b[0m\n\u001b[0;32m      1\u001b[0m \u001b[1;31m# save to csv\u001b[0m\u001b[1;33m\u001b[0m\u001b[1;33m\u001b[0m\u001b[1;33m\u001b[0m\u001b[0m\n\u001b[1;32m----> 2\u001b[1;33m \u001b[0mdf\u001b[0m\u001b[1;33m.\u001b[0m\u001b[0mto_csv\u001b[0m\u001b[1;33m(\u001b[0m\u001b[1;34m'Gains.csv'\u001b[0m\u001b[1;33m)\u001b[0m\u001b[1;33m\u001b[0m\u001b[1;33m\u001b[0m\u001b[0m\n\u001b[0m\u001b[0;32m      3\u001b[0m \u001b[1;31m#df_missing.to_csv('mon_missing.csv')\u001b[0m\u001b[1;33m\u001b[0m\u001b[1;33m\u001b[0m\u001b[1;33m\u001b[0m\u001b[0m\n",
      "\u001b[1;32m~\\Anaconda3\\lib\\site-packages\\pandas\\core\\generic.py\u001b[0m in \u001b[0;36mto_csv\u001b[1;34m(self, path_or_buf, sep, na_rep, float_format, columns, header, index, index_label, mode, encoding, compression, quoting, quotechar, line_terminator, chunksize, date_format, doublequote, escapechar, decimal, errors, storage_options)\u001b[0m\n\u001b[0;32m   3385\u001b[0m         )\n\u001b[0;32m   3386\u001b[0m \u001b[1;33m\u001b[0m\u001b[0m\n\u001b[1;32m-> 3387\u001b[1;33m         return DataFrameRenderer(formatter).to_csv(\n\u001b[0m\u001b[0;32m   3388\u001b[0m             \u001b[0mpath_or_buf\u001b[0m\u001b[1;33m,\u001b[0m\u001b[1;33m\u001b[0m\u001b[1;33m\u001b[0m\u001b[0m\n\u001b[0;32m   3389\u001b[0m             \u001b[0mline_terminator\u001b[0m\u001b[1;33m=\u001b[0m\u001b[0mline_terminator\u001b[0m\u001b[1;33m,\u001b[0m\u001b[1;33m\u001b[0m\u001b[1;33m\u001b[0m\u001b[0m\n",
      "\u001b[1;32m~\\Anaconda3\\lib\\site-packages\\pandas\\io\\formats\\format.py\u001b[0m in \u001b[0;36mto_csv\u001b[1;34m(self, path_or_buf, encoding, sep, columns, index_label, mode, compression, quoting, quotechar, line_terminator, chunksize, date_format, doublequote, escapechar, errors, storage_options)\u001b[0m\n\u001b[0;32m   1081\u001b[0m             \u001b[0mformatter\u001b[0m\u001b[1;33m=\u001b[0m\u001b[0mself\u001b[0m\u001b[1;33m.\u001b[0m\u001b[0mfmt\u001b[0m\u001b[1;33m,\u001b[0m\u001b[1;33m\u001b[0m\u001b[1;33m\u001b[0m\u001b[0m\n\u001b[0;32m   1082\u001b[0m         )\n\u001b[1;32m-> 1083\u001b[1;33m         \u001b[0mcsv_formatter\u001b[0m\u001b[1;33m.\u001b[0m\u001b[0msave\u001b[0m\u001b[1;33m(\u001b[0m\u001b[1;33m)\u001b[0m\u001b[1;33m\u001b[0m\u001b[1;33m\u001b[0m\u001b[0m\n\u001b[0m\u001b[0;32m   1084\u001b[0m \u001b[1;33m\u001b[0m\u001b[0m\n\u001b[0;32m   1085\u001b[0m         \u001b[1;32mif\u001b[0m \u001b[0mcreated_buffer\u001b[0m\u001b[1;33m:\u001b[0m\u001b[1;33m\u001b[0m\u001b[1;33m\u001b[0m\u001b[0m\n",
      "\u001b[1;32m~\\Anaconda3\\lib\\site-packages\\pandas\\io\\formats\\csvs.py\u001b[0m in \u001b[0;36msave\u001b[1;34m(self)\u001b[0m\n\u001b[0;32m    226\u001b[0m         \"\"\"\n\u001b[0;32m    227\u001b[0m         \u001b[1;31m# apply compression and byte/text conversion\u001b[0m\u001b[1;33m\u001b[0m\u001b[1;33m\u001b[0m\u001b[1;33m\u001b[0m\u001b[0m\n\u001b[1;32m--> 228\u001b[1;33m         with get_handle(\n\u001b[0m\u001b[0;32m    229\u001b[0m             \u001b[0mself\u001b[0m\u001b[1;33m.\u001b[0m\u001b[0mfilepath_or_buffer\u001b[0m\u001b[1;33m,\u001b[0m\u001b[1;33m\u001b[0m\u001b[1;33m\u001b[0m\u001b[0m\n\u001b[0;32m    230\u001b[0m             \u001b[0mself\u001b[0m\u001b[1;33m.\u001b[0m\u001b[0mmode\u001b[0m\u001b[1;33m,\u001b[0m\u001b[1;33m\u001b[0m\u001b[1;33m\u001b[0m\u001b[0m\n",
      "\u001b[1;32m~\\Anaconda3\\lib\\site-packages\\pandas\\io\\common.py\u001b[0m in \u001b[0;36mget_handle\u001b[1;34m(path_or_buf, mode, encoding, compression, memory_map, is_text, errors, storage_options)\u001b[0m\n\u001b[0;32m    640\u001b[0m                 \u001b[0merrors\u001b[0m \u001b[1;33m=\u001b[0m \u001b[1;34m\"replace\"\u001b[0m\u001b[1;33m\u001b[0m\u001b[1;33m\u001b[0m\u001b[0m\n\u001b[0;32m    641\u001b[0m             \u001b[1;31m# Encoding\u001b[0m\u001b[1;33m\u001b[0m\u001b[1;33m\u001b[0m\u001b[1;33m\u001b[0m\u001b[0m\n\u001b[1;32m--> 642\u001b[1;33m             handle = open(\n\u001b[0m\u001b[0;32m    643\u001b[0m                 \u001b[0mhandle\u001b[0m\u001b[1;33m,\u001b[0m\u001b[1;33m\u001b[0m\u001b[1;33m\u001b[0m\u001b[0m\n\u001b[0;32m    644\u001b[0m                 \u001b[0mioargs\u001b[0m\u001b[1;33m.\u001b[0m\u001b[0mmode\u001b[0m\u001b[1;33m,\u001b[0m\u001b[1;33m\u001b[0m\u001b[1;33m\u001b[0m\u001b[0m\n",
      "\u001b[1;31mPermissionError\u001b[0m: [Errno 13] Permission denied: 'Gains.csv'"
     ]
    }
   ],
   "source": [
    "# save to csv\n",
    "df.to_csv('Gains.csv')\n",
    "#df_missing.to_csv('mon_missing.csv')"
   ]
  },
  {
   "cell_type": "markdown",
   "id": "4134398f",
   "metadata": {},
   "source": [
    "Same idea only for the loss trials"
   ]
  },
  {
   "cell_type": "code",
   "execution_count": 10,
   "id": "92826609",
   "metadata": {},
   "outputs": [],
   "source": [
    "\n",
    "glober = 'W:\\\\Lab_Projects\\\\R_A_ID\\\\behavioral\\\\RAID_10_to_33_data\\\\RA_LOSS_*.mat'\n",
    "df = pd.DataFrame()\n",
    "df_missing = pd.DataFrame()"
   ]
  },
  {
   "cell_type": "code",
   "execution_count": 11,
   "id": "e1e77d27",
   "metadata": {},
   "outputs": [
    {
     "name": "stdout",
     "output_type": "stream",
     "text": [
      "26\n"
     ]
    }
   ],
   "source": [
    "for mat_fname in glob(glober):\n",
    "    mat = sio.loadmat(mat_fname) # open the file\n",
    "    sub = mat['Data']['observer'][0][0][0][0] # subject number\n",
    "    try:\n",
    "        vals, risk, ambiguity = [], [], []\n",
    "        for i in range(124):\n",
    "            vals.append(mat['Data']['vals'][0][0][i][0])\n",
    "            risk.append(mat['Data']['probs'][0][0][i][0])\n",
    "            ambiguity.append(mat['Data']['ambigs'][0][0][i][0])\n",
    "\n",
    "        # the selection data in the Datamon is divided into the 4 blocks.\n",
    "        # in each block there are 21 trials.\n",
    "\n",
    "        choice = []\n",
    "        for i in range(4):\n",
    "            for j in range(31):\n",
    "                choice.append(mat['Data']['Summary'][0][0][i][j][0][0])\n",
    "\n",
    "        # create a db with the choices\n",
    "        db = pd.DataFrame({'choice':choice})\n",
    "\n",
    "        # fill the db with values\n",
    "        db['value'] = vals\n",
    "        db['risk'] = risk\n",
    "        db['ambiguity'] = ambiguity\n",
    "        db['sub'] = sub\n",
    "\n",
    "        # replace values from the name to numbers\n",
    "        db['choice'] = db.choice.replace(['Reference'], 0)\n",
    "        db['choice'] = db.choice.replace(['Lottery'], 1)\n",
    "        db['choice'] = db.choice.replace(['None'], np.nan)\n",
    "\n",
    "        # look for catch trials if more than 5 (half) print sub number.\n",
    "        catch = np.nansum(db.choice[db.value < 6])\n",
    "        if catch < 5:\n",
    "            print(sub, catch)\n",
    "        else:\n",
    "            db['catch'] = catch\n",
    "        #if db['choice'][db['choice'] != db['choice']].shape[0]:\n",
    "        #    df_missing = df_missing.append(db)\n",
    "        #else:\n",
    "            # append the subject to the subjects dataframe\n",
    "            df = df.append(db)\n",
    "    except:\n",
    "        print(sub)"
   ]
  },
  {
   "cell_type": "code",
   "execution_count": 12,
   "id": "a82c5c83",
   "metadata": {},
   "outputs": [],
   "source": [
    "# save to csv\n",
    "df.to_csv('Loss.csv')\n",
    "#df_missing.to_csv('mon_missing.csv')"
   ]
  }
 ],
 "metadata": {
  "kernelspec": {
   "display_name": "Python 3",
   "language": "python",
   "name": "python3"
  },
  "language_info": {
   "codemirror_mode": {
    "name": "ipython",
    "version": 3
   },
   "file_extension": ".py",
   "mimetype": "text/x-python",
   "name": "python",
   "nbconvert_exporter": "python",
   "pygments_lexer": "ipython3",
   "version": "3.8.8"
  }
 },
 "nbformat": 4,
 "nbformat_minor": 5
}
